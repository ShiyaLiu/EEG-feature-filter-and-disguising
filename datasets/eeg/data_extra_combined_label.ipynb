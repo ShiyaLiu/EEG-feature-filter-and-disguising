{
 "cells": [
  {
   "cell_type": "code",
   "execution_count": 20,
   "metadata": {},
   "outputs": [],
   "source": [
    "import scipy.io as sio\n",
    "import numpy as np"
   ]
  },
  {
   "cell_type": "code",
   "execution_count": 32,
   "metadata": {},
   "outputs": [],
   "source": [
    "def add_combined_label(filename):\n",
    "    data = sio.loadmat(filename)\n",
    "    label_combined = []\n",
    "    for i in range(data['label_stimulus'].shape[0]): #0,1  0,1,2,3,4\n",
    "        label = 5 * data['label_alcoholism'][i,0] + data['label_stimulus'][i,0]\n",
    "        label_combined.append(label)\n",
    "    label_combined = np.reshape(label_combined,(-1,1))\n",
    "    if 'label_id' in data.keys():\n",
    "        sio.savemat(filename+'_extra.mat',{'data':data['data'],\n",
    "                                                     'label_alcoholism':data['label_alcoholism'],\n",
    "                                                     'label_stimulus':data['label_stimulus'],\n",
    "                                                     'label_id':data['label_id'],\n",
    "                                                     'label_combined':label_combined})\n",
    "    else:\n",
    "        sio.savemat(filename+'_extra.mat',{'data':data['data'],\n",
    "                                         'label_alcoholism':data['label_alcoholism'],\n",
    "                                         'label_stimulus':data['label_stimulus'],\n",
    "                                         'label_combined':label_combined})"
   ]
  },
  {
   "cell_type": "code",
   "execution_count": 33,
   "metadata": {},
   "outputs": [],
   "source": [
    "add_combined_label('eeg_dummy_images_w_label_step3_within')\n",
    "add_combined_label('uci_eeg_images_train_within')"
   ]
  }
 ],
 "metadata": {
  "kernelspec": {
   "display_name": "Python 3",
   "language": "python",
   "name": "python3"
  },
  "language_info": {
   "codemirror_mode": {
    "name": "ipython",
    "version": 3
   },
   "file_extension": ".py",
   "mimetype": "text/x-python",
   "name": "python",
   "nbconvert_exporter": "python",
   "pygments_lexer": "ipython3",
   "version": "3.7.4"
  }
 },
 "nbformat": 4,
 "nbformat_minor": 4
}
